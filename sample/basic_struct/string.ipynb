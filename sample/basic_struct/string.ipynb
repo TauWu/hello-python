{
 "nbformat": 4,
 "nbformat_minor": 2,
 "metadata": {
  "language_info": {
   "name": "python",
   "codemirror_mode": {
    "name": "ipython",
    "version": 3
   },
   "version": "3.7.5-final"
  },
  "orig_nbformat": 2,
  "file_extension": ".py",
  "mimetype": "text/x-python",
  "name": "python",
  "npconvert_exporter": "python",
  "pygments_lexer": "ipython3",
  "version": 3,
  "kernelspec": {
   "name": "python37564bit599676a50ac24a789a988a0c7432b9f5",
   "display_name": "Python 3.7.5 64-bit"
  }
 },
 "cells": [
  {
   "cell_type": "code",
   "execution_count": 1,
   "metadata": {},
   "outputs": [
    {
     "name": "stdout",
     "output_type": "stream",
     "text": "3\n345678\n"
    }
   ],
   "source": [
    "raw_str = \"123456789012345678901234567890\"\n",
    "\n",
    "# string 的按照索引取元素\n",
    "# 按照索引取元素，后面紧跟着元素对应的数字编号。按照计算机编程的习惯，索引从 0 开始计数。\n",
    "print(raw_str[2])\n",
    "\n",
    "# string 的切片\n",
    "# 类似于按照索引取值，切片在中括号里面存放一个区间的索引，左闭右开。\n",
    "print(raw_str[2:8])"
   ]
  },
  {
   "cell_type": "code",
   "execution_count": 2,
   "metadata": {},
   "outputs": [
    {
     "name": "stdout",
     "output_type": "stream",
     "text": "123456789012345678901234567890123456789012345678901234567890\n"
    }
   ],
   "source": [
    "# string 的拼接\n",
    "# string 的拼接一般使用 + 即可解决，在要求性能不高的情况下，这也是最快最简单的解决方案。\n",
    "print(raw_str + raw_str)"
   ]
  },
  {
   "cell_type": "code",
   "execution_count": 3,
   "metadata": {},
   "outputs": [
    {
     "name": "stdout",
     "output_type": "stream",
     "text": "135791357913579\n357\n"
    }
   ],
   "source": [
    "# string 的跳跃取值\n",
    "# 当中括号有两个冒号隔开时候，中间可以放三个数字，分别是起始索引、结束索引和步长。其中步长为 1 即为全读，为 2 则隔一位读一位。\n",
    "print(raw_str[::2])\n",
    "print(raw_str[2:8:2])"
   ]
  },
  {
   "cell_type": "code",
   "execution_count": 4,
   "metadata": {},
   "outputs": [
    {
     "name": "stdout",
     "output_type": "stream",
     "text": "098765432109876543210987654321\n086420864208642\n"
    }
   ],
   "source": [
    "# string 的反向取值\n",
    "# 当步长取为 -1 的时候，会倒序取值，一直往回退到起点。\n",
    "print(raw_str[::-1])\n",
    "\n",
    "# string 的反向跳跃取值\n",
    "# 当步长小于 -1 的时候，会倒序取值，同时会像正序一样，按照步长隔开几位读下一位。\n",
    "print(raw_str[::-2])"
   ]
  },
  {
   "cell_type": "code",
   "execution_count": 5,
   "metadata": {},
   "outputs": [
    {
     "name": "stdout",
     "output_type": "stream",
     "text": "30\n1\n"
    }
   ],
   "source": [
    "# 获取 str 的长度\n",
    "# 使用自带函数 len\n",
    "print(len(raw_str))\n",
    "\n",
    "# 查询 元素 1 出现在 2 到 20 位的子串的次数\n",
    "print(raw_str.count(\"1\", 2, 20))"
   ]
  }
 ]
}