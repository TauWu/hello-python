{
 "cells": [
  {
   "cell_type": "code",
   "execution_count": 1,
   "metadata": {},
   "outputs": [
    {
     "name": "stdout",
     "output_type": "stream",
     "text": [
      "3\n",
      "345678\n"
     ]
    }
   ],
   "source": [
    "raw_str = \"123456789012345678901234567890\"\n",
    "# string 的按照索引取元素\n",
    "print(raw_str[2])\n",
    "# string 的切片\n",
    "print(raw_str[2:8])"
   ]
  },
  {
   "cell_type": "code",
   "execution_count": 2,
   "metadata": {},
   "outputs": [
    {
     "name": "stdout",
     "output_type": "stream",
     "text": [
      "123456789012345678901234567890123456789012345678901234567890\n"
     ]
    }
   ],
   "source": [
    "# string 的拼接\n",
    "print(raw_str + raw_str)"
   ]
  },
  {
   "cell_type": "code",
   "execution_count": 3,
   "metadata": {},
   "outputs": [
    {
     "name": "stdout",
     "output_type": "stream",
     "text": [
      "135791357913579\n"
     ]
    }
   ],
   "source": [
    "# string 的跳跃取值\n",
    "print(raw_str[::2])"
   ]
  },
  {
   "cell_type": "code",
   "execution_count": 4,
   "metadata": {},
   "outputs": [
    {
     "name": "stdout",
     "output_type": "stream",
     "text": [
      "098765432109876543210987654321\n",
      "086420864208642\n"
     ]
    }
   ],
   "source": [
    "# string 的反向取值\n",
    "print(raw_str[::-1])\n",
    "# string 的反向跳跃取值\n",
    "print(raw_str[::-2])"
   ]
  }
 ],
 "metadata": {
  "file_extension": ".py",
  "kernelspec": {
   "display_name": "Python 3",
   "language": "python",
   "name": "python3"
  },
  "language_info": {
   "codemirror_mode": {
    "name": "ipython",
    "version": 3
   },
   "file_extension": ".py",
   "mimetype": "text/x-python",
   "name": "python",
   "nbconvert_exporter": "python",
   "pygments_lexer": "ipython3",
   "version": "3.7.6"
  },
  "mimetype": "text/x-python",
  "name": "python",
  "npconvert_exporter": "python",
  "pygments_lexer": "ipython3",
  "version": 3
 },
 "nbformat": 4,
 "nbformat_minor": 2
}
